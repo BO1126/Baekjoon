{
  "nbformat": 4,
  "nbformat_minor": 0,
  "metadata": {
    "colab": {
      "name": "Baek1546.ipynb",
      "provenance": [],
      "collapsed_sections": []
    },
    "kernelspec": {
      "name": "python3",
      "display_name": "Python 3"
    },
    "language_info": {
      "name": "python"
    }
  },
  "cells": [
    {
      "cell_type": "code",
      "metadata": {
        "colab": {
          "base_uri": "https://localhost:8080/"
        },
        "id": "QlrA897HTh5_",
        "outputId": "b203c35d-49ef-4733-f388-13da75f60f0a"
      },
      "source": [
        "n = int(input())\n",
        "a = []\n",
        "a = input().split()\n",
        "sum1 = 0\n",
        "for i in range(0,n):\n",
        "  sum = int(a[i]) / int(max(a)) * 100\n",
        "  sum1 = sum1 + sum\n",
        "print(sum1 / n)\n",
        "\n",
        "\n"
      ],
      "execution_count": 34,
      "outputs": [
        {
          "output_type": "stream",
          "text": [
            "3\n",
            "40 80 60\n",
            "75.0\n"
          ],
          "name": "stdout"
        }
      ]
    },
    {
      "cell_type": "code",
      "metadata": {
        "id": "E6O7ldAtAJ1_"
      },
      "source": [
        "n = int(input())  # 과목 수\n",
        "test_list = list(map(int, input().split()))\n",
        "max_score = max(test_list)\n",
        "\n",
        "new_list = []\n",
        "for score in test_list :\n",
        "    new_list.append(score/max_score *100)  # 새로운 점수 생성\n",
        "test_avg = sum(new_list)/n\n",
        "print(test_avg)"
      ],
      "execution_count": null,
      "outputs": []
    }
  ]
}