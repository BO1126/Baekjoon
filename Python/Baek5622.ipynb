{
  "nbformat": 4,
  "nbformat_minor": 0,
  "metadata": {
    "colab": {
      "name": "Baek5622.ipynb",
      "provenance": [],
      "collapsed_sections": []
    },
    "kernelspec": {
      "name": "python3",
      "display_name": "Python 3"
    },
    "language_info": {
      "name": "python"
    }
  },
  "cells": [
    {
      "cell_type": "code",
      "metadata": {
        "colab": {
          "base_uri": "https://localhost:8080/"
        },
        "id": "-SVScZF3U9Ll",
        "outputId": "bff4714a-6728-4521-fed1-bb290dec326d"
      },
      "source": [
        "s = list(input())\n",
        "result = 0\n",
        "for i in s:\n",
        "  if i=='A' or i=='B' or i=='C':\n",
        "    result+=3\n",
        "  elif i=='D' or i=='E' or i=='F':\n",
        "    result+=4\n",
        "  elif i=='G' or i=='H' or i=='I':\n",
        "    result+=5\n",
        "  elif i=='J' or i=='K' or i=='L':\n",
        "    result+=6\n",
        "  elif i=='M' or i=='N' or i=='O':\n",
        "    result+=7\n",
        "  elif i=='P' or i=='Q' or i=='R' or i=='S':\n",
        "    result+=8\n",
        "  elif i=='T' or i=='U' or i=='V':\n",
        "    result+=9\n",
        "  elif i=='W' or i=='X' or i=='Y' or i=='Z':\n",
        "    result+=10\n",
        "print(result)\n"
      ],
      "execution_count": 7,
      "outputs": [
        {
          "output_type": "stream",
          "text": [
            "s = list(input()) result = 0 for i in s:   if i=='A' or i=='B' or i=='C':     result+=3   elif i=='D' or i=='E' or i=='F':     result+=4   elif i=='G' or i=='H' or i=='I':     result+=5   elif i=='J' or i=='K' or i=='L':     result+=6   elif i=='M' or i=='N' or i=='O':     result+=7   elif i=='P' or i=='Q' or i=='R' or i=='S':     result+=8   elif i=='T' or i=='U' or i=='V':     result+=9   elif i=='W' or i=='X' or i=='Y' or i=='Z':     result+=10 print(result)\n",
            "174\n"
          ],
          "name": "stdout"
        }
      ]
    },
    {
      "cell_type": "code",
      "metadata": {
        "id": "jinIC3chWs3i"
      },
      "source": [
        ""
      ],
      "execution_count": null,
      "outputs": []
    }
  ]
}