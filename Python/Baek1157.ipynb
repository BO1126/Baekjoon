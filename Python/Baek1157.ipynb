{
  "nbformat": 4,
  "nbformat_minor": 0,
  "metadata": {
    "colab": {
      "name": "Baek1157.ipynb",
      "provenance": [],
      "collapsed_sections": []
    },
    "kernelspec": {
      "name": "python3",
      "display_name": "Python 3"
    },
    "language_info": {
      "name": "python"
    }
  },
  "cells": [
    {
      "cell_type": "code",
      "metadata": {
        "colab": {
          "base_uri": "https://localhost:8080/"
        },
        "id": "jCQNr6_lM44B",
        "outputId": "a8a1df58-0323-419e-efeb-2f5d513d015e"
      },
      "source": [
        "words = input().upper()\n",
        "unique_words = list(set(words))  # 입력받은 문자열에서 중복값을 제거\n",
        "\n",
        "cnt_list = []\n",
        "for x in unique_words :\n",
        "    cnt = words.count(x)\n",
        "    cnt_list.append(cnt)  # count 숫자를 리스트에 append\n",
        "\n",
        "if cnt_list.count(max(cnt_list)) > 1 :  # count 숫자 최대값이 중복되면\n",
        "    print('?')\n",
        "else :\n",
        "    max_index = cnt_list.index(max(cnt_list))  # count 숫자 최대값 인덱스(위치)\n",
        "    print(unique_words[max_index])"
      ],
      "execution_count": null,
      "outputs": [
        {
          "output_type": "stream",
          "text": [
            "20 30 10\n",
            "20\n"
          ],
          "name": "stdout"
        }
      ]
    }
  ]
}