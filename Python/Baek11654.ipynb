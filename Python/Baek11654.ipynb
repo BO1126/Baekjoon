{
  "nbformat": 4,
  "nbformat_minor": 0,
  "metadata": {
    "colab": {
      "name": "Baek11654.ipynb",
      "provenance": []
    },
    "kernelspec": {
      "name": "python3",
      "display_name": "Python 3"
    },
    "language_info": {
      "name": "python"
    }
  },
  "cells": [
    {
      "cell_type": "code",
      "metadata": {
        "colab": {
          "base_uri": "https://localhost:8080/"
        },
        "id": "FHVBcDweJKmU",
        "outputId": "05bef56e-d7c4-4d78-e47b-e2a410f9b616"
      },
      "source": [
        "a = input()\n",
        "print(ord(a))"
      ],
      "execution_count": 2,
      "outputs": [
        {
          "output_type": "stream",
          "text": [
            "9\n",
            "57\n"
          ],
          "name": "stdout"
        }
      ]
    }
  ]
}