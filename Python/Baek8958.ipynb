{
  "nbformat": 4,
  "nbformat_minor": 0,
  "metadata": {
    "colab": {
      "name": "Baek8958.ipynb",
      "provenance": [],
      "collapsed_sections": []
    },
    "kernelspec": {
      "name": "python3",
      "display_name": "Python 3"
    },
    "language_info": {
      "name": "python"
    }
  },
  "cells": [
    {
      "cell_type": "code",
      "metadata": {
        "id": "E6O7ldAtAJ1_",
        "colab": {
          "base_uri": "https://localhost:8080/"
        },
        "outputId": "48161cb3-3ed9-4ede-8608-e2e367deb054"
      },
      "source": [
        "n = int(input())\n",
        "for i in range(n):\n",
        "    b=input()\n",
        "    s=list(b)\n",
        "    sum=0\n",
        "    c=1\n",
        "    for i in s:\n",
        "        if i == 'O':\n",
        "            sum+=c\n",
        "            c+=1\n",
        "        else :\n",
        "            c=1\n",
        "    print(sum)"
      ],
      "execution_count": 2,
      "outputs": [
        {
          "output_type": "stream",
          "text": [
            "5\n",
            "OOXXOXXOOO OOXXOOXXOO OXOXOXOXOXOXOX OOOOOOOOOO OOOOXOOOOXOOOOX\n",
            "111\n",
            "OO\n",
            "3\n",
            "XX\n",
            "0\n",
            "XX\n",
            "0\n",
            "OOOOXXXOXOOOX\n",
            "17\n"
          ],
          "name": "stdout"
        }
      ]
    }
  ]
}