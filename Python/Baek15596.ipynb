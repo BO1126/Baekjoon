{
  "nbformat": 4,
  "nbformat_minor": 0,
  "metadata": {
    "colab": {
      "name": "Baek15596.ipynb",
      "provenance": [],
      "collapsed_sections": []
    },
    "kernelspec": {
      "name": "python3",
      "display_name": "Python 3"
    },
    "language_info": {
      "name": "python"
    }
  },
  "cells": [
    {
      "cell_type": "code",
      "metadata": {
        "id": "E6O7ldAtAJ1_",
        "colab": {
          "base_uri": "https://localhost:8080/"
        },
        "outputId": "75692d66-e714-4922-9cd0-81c4dcc1b98a"
      },
      "source": [
        "def sumtem(): \n",
        "  n = list(map(int,input().split()))\n",
        "  sum = 0\n",
        "  for i in range(len(n)):\n",
        "    sum = sum + n[i]\n",
        "  return sum\n",
        "\n",
        "print(sumtem())"
      ],
      "execution_count": 51,
      "outputs": [
        {
          "output_type": "stream",
          "text": [
            "1 2 3 4 5 6 7 8 9 10\n",
            "55\n"
          ],
          "name": "stdout"
        }
      ]
    }
  ]
}