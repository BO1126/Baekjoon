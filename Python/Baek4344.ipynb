{
  "nbformat": 4,
  "nbformat_minor": 0,
  "metadata": {
    "colab": {
      "name": "Baek4344.ipynb",
      "provenance": []
    },
    "kernelspec": {
      "name": "python3",
      "display_name": "Python 3"
    },
    "language_info": {
      "name": "python"
    }
  },
  "cells": [
    {
      "cell_type": "code",
      "metadata": {
        "colab": {
          "base_uri": "https://localhost:8080/"
        },
        "id": "u8GNCUo-wkG0",
        "outputId": "9e7e5e52-0696-4546-e5f0-019c8daa77f6"
      },
      "source": [
        "n = int(input())\n",
        "res = 0\n",
        "while res<n:\n",
        "  li = list(map(int, input().split()))\n",
        "  liarg = sum(li[1:])/li[0]\n",
        "  res+=1\n",
        "  a=0\n",
        "  for i in li[1:]:\n",
        "    i = float(i)\n",
        "    if liarg<i:\n",
        "      a+=1\n",
        "  b = 100/li[0]\n",
        "  print(\"{:.3f}%\".format(b*a))\n"
      ],
      "execution_count": 27,
      "outputs": [
        {
          "output_type": "stream",
          "text": [
            "1\n",
            "5 50 50 70 80 100\n",
            "40.000%\n"
          ],
          "name": "stdout"
        }
      ]
    }
  ]
}