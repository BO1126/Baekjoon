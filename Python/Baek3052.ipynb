{
  "nbformat": 4,
  "nbformat_minor": 0,
  "metadata": {
    "colab": {
      "name": "Baek3052.ipynb",
      "provenance": [],
      "collapsed_sections": []
    },
    "kernelspec": {
      "name": "python3",
      "display_name": "Python 3"
    },
    "language_info": {
      "name": "python"
    }
  },
  "cells": [
    {
      "cell_type": "code",
      "metadata": {
        "colab": {
          "base_uri": "https://localhost:8080/"
        },
        "id": "QlrA897HTh5_",
        "outputId": "dec50b48-3266-4951-83cc-17d65f2f3404"
      },
      "source": [
        "a = []\n",
        "for i in range(10):\n",
        "  s = int(input())\n",
        "  a.append(s%42)\n",
        "a = set(a)\n",
        "print(len(a))\n"
      ],
      "execution_count": 11,
      "outputs": [
        {
          "output_type": "stream",
          "text": [
            "1\n",
            "2\n",
            "3\n",
            "4\n",
            "5\n",
            "6\n",
            "7\n",
            "8\n",
            "9\n",
            "10\n",
            "10\n"
          ],
          "name": "stdout"
        }
      ]
    }
  ]
}