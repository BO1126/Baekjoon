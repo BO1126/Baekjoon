{
  "nbformat": 4,
  "nbformat_minor": 0,
  "metadata": {
    "colab": {
      "name": "Baek2908.ipynb",
      "provenance": [],
      "collapsed_sections": []
    },
    "kernelspec": {
      "name": "python3",
      "display_name": "Python 3"
    },
    "language_info": {
      "name": "python"
    }
  },
  "cells": [
    {
      "cell_type": "code",
      "metadata": {
        "id": "Wdoivlqj9G4v",
        "colab": {
          "base_uri": "https://localhost:8080/"
        },
        "outputId": "c6110c08-adfb-43b7-d6d3-667aac8770a7"
      },
      "source": [
        "a,b = input().split()\n",
        "a = a[::-1]\n",
        "b = b[::-1]\n",
        "b = int(b)\n",
        "a = int(a)\n",
        "if a<b:\n",
        "  print(b)\n",
        "else:\n",
        "  print(a)\n",
        "\n",
        "\n"
      ],
      "execution_count": 4,
      "outputs": [
        {
          "output_type": "stream",
          "text": [
            "786 834\n",
            "687\n"
          ],
          "name": "stdout"
        }
      ]
    }
  ]
}