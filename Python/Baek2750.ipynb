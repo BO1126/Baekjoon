{
  "nbformat": 4,
  "nbformat_minor": 0,
  "metadata": {
    "colab": {
      "name": "Baek2750.ipynb",
      "provenance": [],
      "collapsed_sections": []
    },
    "kernelspec": {
      "name": "python3",
      "display_name": "Python 3"
    },
    "language_info": {
      "name": "python"
    }
  },
  "cells": [
    {
      "cell_type": "code",
      "metadata": {
        "id": "RwpwMLzAc4Jv",
        "colab": {
          "base_uri": "https://localhost:8080/"
        },
        "outputId": "42b03c33-0ab5-47fb-c46b-6ec84d06b1d6"
      },
      "source": [
        "n = int(input())\n",
        "a = list()\n",
        "for i in range(n):\n",
        "  b = int(input())\n",
        "  a.append(b)\n",
        "a= set(a)\n",
        "a=list(a)\n",
        "a.sort()\n",
        "for i in range(len(a)):\n",
        "  print(a[i])\n",
        "\n"
      ],
      "execution_count": 9,
      "outputs": [
        {
          "output_type": "stream",
          "text": [
            "5\n",
            "53\n",
            "53\n",
            "64\n",
            "23\n",
            "12\n",
            "12\n",
            "23\n",
            "53\n",
            "64\n"
          ],
          "name": "stdout"
        }
      ]
    }
  ]
}