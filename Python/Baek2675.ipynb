{
  "nbformat": 4,
  "nbformat_minor": 0,
  "metadata": {
    "colab": {
      "name": "Baek2675.ipynb",
      "provenance": [],
      "collapsed_sections": []
    },
    "kernelspec": {
      "name": "python3",
      "display_name": "Python 3"
    },
    "language_info": {
      "name": "python"
    }
  },
  "cells": [
    {
      "cell_type": "code",
      "metadata": {
        "colab": {
          "base_uri": "https://localhost:8080/"
        },
        "id": "sefnQgpPqq7I",
        "outputId": "a6dc9d68-d3f9-4eba-d380-f6961e859a2b"
      },
      "source": [
        "t = int(input())\n",
        "for i in range(t):\n",
        "  r, s = input().split()\n",
        "  r = int(r)\n",
        "  p = list(s)\n",
        "  for k in p:\n",
        "    for j in range(r):\n",
        "      print(\"{}\".format(k),end=\"\")\n",
        "  print()"
      ],
      "execution_count": 11,
      "outputs": [
        {
          "output_type": "stream",
          "text": [
            "2\n",
            "3 ABC\n",
            "AAABBBCCC\n",
            "5 /HTP\n",
            "/////HHHHHTTTTTPPPPP\n"
          ],
          "name": "stdout"
        }
      ]
    }
  ]
}