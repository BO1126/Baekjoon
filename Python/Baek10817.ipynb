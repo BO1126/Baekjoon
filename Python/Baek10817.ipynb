{
  "nbformat": 4,
  "nbformat_minor": 0,
  "metadata": {
    "colab": {
      "name": "Baek10817.ipynb",
      "provenance": []
    },
    "kernelspec": {
      "name": "python3",
      "display_name": "Python 3"
    },
    "language_info": {
      "name": "python"
    }
  },
  "cells": [
    {
      "cell_type": "code",
      "metadata": {
        "colab": {
          "base_uri": "https://localhost:8080/"
        },
        "id": "jCQNr6_lM44B",
        "outputId": "a8a1df58-0323-419e-efeb-2f5d513d015e"
      },
      "source": [
        "li = list(map(int, input().split()))\n",
        "\n",
        "sort_li = sorted(li, reverse=True)\n",
        "print(sort_li[1])\n"
      ],
      "execution_count": null,
      "outputs": [
        {
          "output_type": "stream",
          "text": [
            "20 30 10\n",
            "20\n"
          ],
          "name": "stdout"
        }
      ]
    }
  ]
}