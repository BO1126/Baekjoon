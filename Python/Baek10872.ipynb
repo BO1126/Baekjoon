{
  "nbformat": 4,
  "nbformat_minor": 0,
  "metadata": {
    "colab": {
      "name": "Baek10872.ipynb",
      "provenance": []
    },
    "kernelspec": {
      "name": "python3",
      "display_name": "Python 3"
    },
    "language_info": {
      "name": "python"
    }
  },
  "cells": [
    {
      "cell_type": "code",
      "metadata": {
        "colab": {
          "base_uri": "https://localhost:8080/"
        },
        "id": "NvieGkg78RLB",
        "outputId": "1594560c-75a3-4488-9a44-bd7e98c467eb"
      },
      "source": [
        "def fac(n):\n",
        "  if n==0:\n",
        "    return 1\n",
        "  return n * fac(n - 1)\n",
        "n = int(input())\n",
        "print(fac(n))"
      ],
      "execution_count": 4,
      "outputs": [
        {
          "output_type": "stream",
          "text": [
            "10\n",
            "3628800\n"
          ],
          "name": "stdout"
        }
      ]
    }
  ]
}