{
  "nbformat": 4,
  "nbformat_minor": 0,
  "metadata": {
    "colab": {
      "name": "baek10818.ipynb",
      "provenance": [],
      "collapsed_sections": []
    },
    "kernelspec": {
      "name": "python3",
      "display_name": "Python 3"
    },
    "language_info": {
      "name": "python"
    }
  },
  "cells": [
    {
      "cell_type": "code",
      "metadata": {
        "id": "MfbUhpfvRTq3"
      },
      "source": [
        ""
      ],
      "execution_count": null,
      "outputs": []
    },
    {
      "cell_type": "code",
      "metadata": {
        "colab": {
          "base_uri": "https://localhost:8080/"
        },
        "id": "gsX4X56yRUDd",
        "outputId": "11177362-bd36-4ff8-e542-5d81e3b87fc3"
      },
      "source": [
        "n = int(input())\n",
        "a = list(map(int, input().split()))\n",
        "\n",
        "mina = a[0]\n",
        "max = 0\n",
        "for i in range(0,n):\n",
        "    if a[i] <= mina :\n",
        "        mina = a[i]\n",
        "    elif a[i] > maxa :\n",
        "        maxa = a[i]\n",
        "print(mina, maxa)"
      ],
      "execution_count": 11,
      "outputs": [
        {
          "output_type": "stream",
          "text": [
            "5\n",
            "27 4 9 2 1\n",
            "1 9\n"
          ],
          "name": "stdout"
        }
      ]
    }
  ]
}