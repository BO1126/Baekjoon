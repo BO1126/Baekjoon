{
  "nbformat": 4,
  "nbformat_minor": 0,
  "metadata": {
    "colab": {
      "name": "Baek1978.ipynb",
      "provenance": []
    },
    "kernelspec": {
      "name": "python3",
      "display_name": "Python 3"
    },
    "language_info": {
      "name": "python"
    }
  },
  "cells": [
    {
      "cell_type": "code",
      "metadata": {
        "colab": {
          "base_uri": "https://localhost:8080/"
        },
        "id": "Rzjofkev57W1",
        "outputId": "4c2bffe2-61ab-47ba-ac3b-a3fcccf240b5"
      },
      "source": [
        "Case = int(input())\n",
        "num_list = list(map(int, input().split()))\n",
        "res_counting = 0\n",
        "\n",
        "for i in num_list:\n",
        "    cnt = 0\n",
        "    if(i == 1):\n",
        "        continue\n",
        "    for j in range(2, i + 1):\n",
        "        if(i % j == 0):\n",
        "            cnt += 1\n",
        "    if(cnt == 1):\n",
        "        res_counting += 1\n",
        "print(res_counting)"
      ],
      "execution_count": 1,
      "outputs": [
        {
          "output_type": "stream",
          "text": [
            "4\n",
            "1 3 5 7\n",
            "3\n"
          ],
          "name": "stdout"
        }
      ]
    }
  ]
}