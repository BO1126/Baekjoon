{
  "nbformat": 4,
  "nbformat_minor": 0,
  "metadata": {
    "colab": {
      "name": "Quiz.ipynb",
      "provenance": [],
      "collapsed_sections": []
    },
    "kernelspec": {
      "name": "python3",
      "display_name": "Python 3"
    },
    "language_info": {
      "name": "python"
    }
  },
  "cells": [
    {
      "cell_type": "code",
      "metadata": {
        "colab": {
          "base_uri": "https://localhost:8080/"
        },
        "id": "GbNafL6E7eIM",
        "outputId": "6418c9c3-9daf-41d2-9d30-9f8a8909685a"
      },
      "source": [
        "my_class = tuple()\n",
        "print(type(my_class))"
      ],
      "execution_count": null,
      "outputs": [
        {
          "output_type": "stream",
          "text": [
            "<class 'tuple'>\n"
          ],
          "name": "stdout"
        }
      ]
    },
    {
      "cell_type": "code",
      "metadata": {
        "colab": {
          "base_uri": "https://localhost:8080/"
        },
        "id": "XvEdSr3l8S3N",
        "outputId": "487b52a5-63db-4c3b-fe75-f6b4a7a4214f"
      },
      "source": [
        "new_tuple = (7,)\n",
        "print(type(new_tuple))"
      ],
      "execution_count": null,
      "outputs": [
        {
          "output_type": "stream",
          "text": [
            "<class 'tuple'>\n"
          ],
          "name": "stdout"
        }
      ]
    },
    {
      "cell_type": "code",
      "metadata": {
        "colab": {
          "base_uri": "https://localhost:8080/"
        },
        "id": "YsPsrwMc81am",
        "outputId": "223819f9-9dee-412e-f2ca-d4e3e980817a"
      },
      "source": [
        "interest = ('삼성전자','LG전자','SK Hynix')\n",
        "li = list(interest)\n",
        "print(type(li))"
      ],
      "execution_count": null,
      "outputs": [
        {
          "output_type": "stream",
          "text": [
            "<class 'list'>\n"
          ],
          "name": "stdout"
        }
      ]
    },
    {
      "cell_type": "code",
      "metadata": {
        "colab": {
          "base_uri": "https://localhost:8080/"
        },
        "id": "aiOT6oO49FNu",
        "outputId": "a90e5257-a3f9-40ca-f81c-b8e6e7e6fc20"
      },
      "source": [
        "li = [i for i in range(1,100) if i%2==0]\n",
        "tu = tuple(li)\n",
        "print(tu)"
      ],
      "execution_count": null,
      "outputs": [
        {
          "output_type": "stream",
          "text": [
            "(2, 4, 6, 8, 10, 12, 14, 16, 18, 20, 22, 24, 26, 28, 30, 32, 34, 36, 38, 40, 42, 44, 46, 48, 50, 52, 54, 56, 58, 60, 62, 64, 66, 68, 70, 72, 74, 76, 78, 80, 82, 84, 86, 88, 90, 92, 94, 96, 98)\n"
          ],
          "name": "stdout"
        }
      ]
    },
    {
      "cell_type": "code",
      "metadata": {
        "colab": {
          "base_uri": "https://localhost:8080/"
        },
        "id": "sLXxnj1b-Bgs",
        "outputId": "355a4ffc-3daa-4b7f-d3a7-2fdc17762895"
      },
      "source": [
        "temp = {}\n",
        "print(type(temp))"
      ],
      "execution_count": null,
      "outputs": [
        {
          "output_type": "stream",
          "text": [
            "<class 'dict'>\n"
          ],
          "name": "stdout"
        }
      ]
    },
    {
      "cell_type": "code",
      "metadata": {
        "colab": {
          "base_uri": "https://localhost:8080/"
        },
        "id": "aqA4aSKu-Jr-",
        "outputId": "0c59e336-ca97-4235-80cf-b3f5aa4f8c52"
      },
      "source": [
        "icecream = {\"메로나\":1000,\"요망떼\":800,\"월드콘\":2000}\n",
        "print(icecream)"
      ],
      "execution_count": null,
      "outputs": [
        {
          "output_type": "stream",
          "text": [
            "{'메로나': 1000, '요망떼': 800, '월드콘': 2000}\n"
          ],
          "name": "stdout"
        }
      ]
    },
    {
      "cell_type": "code",
      "metadata": {
        "colab": {
          "base_uri": "https://localhost:8080/"
        },
        "id": "o8NGYZWE-bbu",
        "outputId": "12ca73db-3262-4b9a-97de-2549ac783536"
      },
      "source": [
        "icecream = {\"메로나\":1000,\"요망떼\":800,\"월드콘\":2000}\n",
        "icecream[\"죠스바\"] = 1300\n",
        "icecream[\"구구콘\"] = 2500\n",
        "print(icecream)"
      ],
      "execution_count": null,
      "outputs": [
        {
          "output_type": "stream",
          "text": [
            "{'메로나': 1000, '요망떼': 800, '월드콘': 2000, '죠스바': 1300, '구구콘': 2500}\n"
          ],
          "name": "stdout"
        }
      ]
    },
    {
      "cell_type": "code",
      "metadata": {
        "colab": {
          "base_uri": "https://localhost:8080/"
        },
        "id": "1UKyRgAA-8-X",
        "outputId": "3430e291-674f-4af6-caf5-ecb2c3ace3d4"
      },
      "source": [
        "icecream = {\"메로나\":1000,\"요망떼\":800,\"월드콘\":2000}\n",
        "print(icecream[\"월드콘\"])"
      ],
      "execution_count": null,
      "outputs": [
        {
          "output_type": "stream",
          "text": [
            "2000\n"
          ],
          "name": "stdout"
        }
      ]
    },
    {
      "cell_type": "code",
      "metadata": {
        "colab": {
          "base_uri": "https://localhost:8080/"
        },
        "id": "DSQNBW_U_Jb2",
        "outputId": "85770613-bfb5-4385-a387-20900597c4a8"
      },
      "source": [
        "icecream = {\"메로나\":1000,\"요망떼\":800,\"월드콘\":2000}\n",
        "del(icecream[\"요망떼\"])\n",
        "print(icecream)"
      ],
      "execution_count": null,
      "outputs": [
        {
          "output_type": "stream",
          "text": [
            "{'메로나': 1000, '월드콘': 2000}\n"
          ],
          "name": "stdout"
        }
      ]
    },
    {
      "cell_type": "code",
      "metadata": {
        "colab": {
          "base_uri": "https://localhost:8080/"
        },
        "id": "4XPVHH3T_eqP",
        "outputId": "34b3b7bc-20ec-444e-d3d7-3ed442ca9282"
      },
      "source": [
        "if True:\n",
        "  if False:\n",
        "    print(\"1\")\n",
        "    print(\"2\")\n",
        "  else:\n",
        "    print(\"3\")\n",
        "else:\n",
        "  print(\"4\")\n",
        "print(\"5\")"
      ],
      "execution_count": null,
      "outputs": [
        {
          "output_type": "stream",
          "text": [
            "3\n",
            "5\n"
          ],
          "name": "stdout"
        }
      ]
    },
    {
      "cell_type": "code",
      "metadata": {
        "colab": {
          "base_uri": "https://localhost:8080/"
        },
        "id": "nA7p03Rd_68O",
        "outputId": "10806329-1f24-4084-f056-a31b29e625c5"
      },
      "source": [
        "num = int(input(\"숫자를 입력하세요:\"))\n",
        "if num %2==0:\n",
        "  print(\"짝수\")\n",
        "else:\n",
        "  print(\"홀수\")"
      ],
      "execution_count": null,
      "outputs": [
        {
          "output_type": "stream",
          "text": [
            "숫자를 입력하세요:245\n",
            "홀수\n"
          ],
          "name": "stdout"
        }
      ]
    },
    {
      "cell_type": "code",
      "metadata": {
        "colab": {
          "base_uri": "https://localhost:8080/"
        },
        "id": "tVgV1N-kAH4m",
        "outputId": "abf711bc-7826-4498-e401-5044e14f2901"
      },
      "source": [
        "fruit = [\"사과\",\"딸기\",\"체리\"]\n",
        "input_fruit = input(\"과일을 입력하세요! \")\n",
        "if input_fruit in fruit:\n",
        "  print(\"집에 있음\")\n",
        "else:\n",
        "  print(\"{}를 구입하세요\".format(input_fruit))"
      ],
      "execution_count": null,
      "outputs": [
        {
          "output_type": "stream",
          "text": [
            "과일을 입력하세요! 배\n",
            "배를 구입하세요\n"
          ],
          "name": "stdout"
        }
      ]
    },
    {
      "cell_type": "code",
      "metadata": {
        "colab": {
          "base_uri": "https://localhost:8080/"
        },
        "id": "57CHDbgjAmme",
        "outputId": "5494a8f2-e69b-4d27-99ed-c98c547a7354"
      },
      "source": [
        "fruit = {\"봄\":\"딸기\",\"여름\":\"토마토\",\"가을\":\"사과\"}\n",
        "answer = input(\"제가 좋아 하는 계절은:\")\n",
        "if answer in fruit:\n",
        "  print(\"정답입니다\")\n",
        "else:\n",
        "  print(\"오답입니다\")\n"
      ],
      "execution_count": null,
      "outputs": [
        {
          "output_type": "stream",
          "text": [
            "제가 좋아 하는 계절은:딸기\n",
            "오답입니다\n"
          ],
          "name": "stdout"
        }
      ]
    },
    {
      "cell_type": "code",
      "metadata": {
        "colab": {
          "base_uri": "https://localhost:8080/"
        },
        "id": "pS3TenI5B-Jw",
        "outputId": "2269098a-7ffc-46d9-c5d1-003fa0214eb4"
      },
      "source": [
        "fruit = {\"봄\":\"딸기\",\"여름\":\"토마토\",\"가을\":\"사과\"}\n",
        "answer = input(\"제가 좋아 하는 과일은:\")\n",
        "if answer in fruit.values():\n",
        "  print(\"정답입니다\")\n",
        "else:\n",
        "  print(\"오답입니다\")"
      ],
      "execution_count": null,
      "outputs": [
        {
          "output_type": "stream",
          "text": [
            "제가 좋아 하는 과일은:한라봉\n",
            "오답입니다\n"
          ],
          "name": "stdout"
        }
      ]
    },
    {
      "cell_type": "code",
      "metadata": {
        "colab": {
          "base_uri": "https://localhost:8080/"
        },
        "id": "If_gS6e7CNjX",
        "outputId": "dcf882a6-24cc-4e25-ceae-9650749601ea"
      },
      "source": [
        "phone_num = {\"011\":\"SKT\",\"016\":\"KT\",\"019\":\"LGU\",\"010\":\"알수없음\"}\n",
        "user_num = input(\"휴대전화 번호 입력: \").split(\"-\")\n",
        "print(phone_num[user_num[0]])"
      ],
      "execution_count": null,
      "outputs": [
        {
          "output_type": "stream",
          "text": [
            "휴대전화 번호 입력: 011-31241-321321\n",
            "SKT\n"
          ],
          "name": "stdout"
        }
      ]
    },
    {
      "cell_type": "code",
      "metadata": {
        "colab": {
          "base_uri": "https://localhost:8080/"
        },
        "id": "NvVqSh0PDBjA",
        "outputId": "52655348-d277-4c6c-9c04-2c76cc5dbbeb"
      },
      "source": [
        "li = [\"은평구\",\"은평구\",\"은평구\",\"중구\",\"중구\",\"서대문구\",\"서대문구\",\"마포구\",\"마포구\",\"용산구\"]\n",
        "number = input(\"우편번호를 입력하세요: \")\n",
        "print(li[int(number[2])])"
      ],
      "execution_count": null,
      "outputs": [
        {
          "output_type": "stream",
          "text": [
            "우편번호를 입력하세요: 01723\n",
            "마포구\n"
          ],
          "name": "stdout"
        }
      ]
    },
    {
      "cell_type": "code",
      "metadata": {
        "colab": {
          "base_uri": "https://localhost:8080/"
        },
        "id": "6na3UEcvEEA3",
        "outputId": "3710b6b8-85d0-4a5f-85de-460be364424e"
      },
      "source": [
        "li = [\"SK하이닉스\",\"삼성전자\",\"LG전자\"]\n",
        "for i in li:\n",
        "  print(len(i))"
      ],
      "execution_count": null,
      "outputs": [
        {
          "output_type": "stream",
          "text": [
            "6\n",
            "4\n",
            "4\n"
          ],
          "name": "stdout"
        }
      ]
    },
    {
      "cell_type": "code",
      "metadata": {
        "colab": {
          "base_uri": "https://localhost:8080/"
        },
        "id": "rABZbMt9EPxI",
        "outputId": "2f9358f9-1442-462c-e953-9c5d76434cc5"
      },
      "source": [
        "li = [3,-20,-3,44]\n",
        "for i in li:\n",
        "  if i < 0:\n",
        "    print(i)"
      ],
      "execution_count": null,
      "outputs": [
        {
          "output_type": "stream",
          "text": [
            "-20\n",
            "-3\n"
          ],
          "name": "stdout"
        }
      ]
    },
    {
      "cell_type": "code",
      "metadata": {
        "colab": {
          "base_uri": "https://localhost:8080/"
        },
        "id": "QzGabA-pEaE_",
        "outputId": "4f6fafff-5738-48b9-ab2a-c8bbcbe4d61d"
      },
      "source": [
        "li = [\"I\",\"study\",\"python\",\"They\",\"are\",\"!\"]\n",
        "for i in li:\n",
        "  if len(i) >= 3:\n",
        "    print(i)"
      ],
      "execution_count": null,
      "outputs": [
        {
          "output_type": "stream",
          "text": [
            "study\n",
            "python\n",
            "They\n",
            "are\n"
          ],
          "name": "stdout"
        }
      ]
    },
    {
      "cell_type": "code",
      "metadata": {
        "colab": {
          "base_uri": "https://localhost:8080/"
        },
        "id": "9KntvP8PEszu",
        "outputId": "c0f5c4c1-d9ab-4d16-d224-9b0e20936210"
      },
      "source": [
        "for i in range(11,-1,-1):\n",
        "  print(i)"
      ],
      "execution_count": null,
      "outputs": [
        {
          "output_type": "stream",
          "text": [
            "11\n",
            "10\n",
            "9\n",
            "8\n",
            "7\n",
            "6\n",
            "5\n",
            "4\n",
            "3\n",
            "2\n",
            "1\n",
            "0\n"
          ],
          "name": "stdout"
        }
      ]
    },
    {
      "cell_type": "code",
      "metadata": {
        "colab": {
          "base_uri": "https://localhost:8080/"
        },
        "id": "H75aahjrEz6O",
        "outputId": "fe2673ac-a03b-48c9-a0b7-ebbfc55e6355"
      },
      "source": [
        "low_prices = [100,200,400,800,1000]\n",
        "high_prices = [150,300,430,880,1000]\n",
        "volatility = list()\n",
        "for i in range(len(high_prices)):\n",
        "  volatility.append(high_prices[i]-low_prices[i])\n",
        "print(volatility)"
      ],
      "execution_count": null,
      "outputs": [
        {
          "output_type": "stream",
          "text": [
            "[50, 100, 30, 80, 0]\n"
          ],
          "name": "stdout"
        }
      ]
    },
    {
      "cell_type": "code",
      "metadata": {
        "colab": {
          "base_uri": "https://localhost:8080/"
        },
        "id": "AfXtrm2iFrXA",
        "outputId": "2854e1f3-607b-4ddb-8317-abc32f02faae"
      },
      "source": [
        "station = \"구파발\"\n",
        "station = input()\n",
        "print(\"연신내행 열차가 들어오고 있습니다\".replace(\"연신내\",station))"
      ],
      "execution_count": null,
      "outputs": [
        {
          "output_type": "stream",
          "text": [
            "인천\n",
            "인천행 열차가 들어오고 있습니다\n"
          ],
          "name": "stdout"
        }
      ]
    },
    {
      "cell_type": "code",
      "metadata": {
        "id": "E_wFHd09Hi2P",
        "colab": {
          "base_uri": "https://localhost:8080/"
        },
        "outputId": "bd0d70ed-5504-4441-b01a-2915d5c154ae"
      },
      "source": [
        "jumin_number = \"060107-3456789\"\n",
        "print(\"성별:\",jumin_number[7])\n",
        "print(\"연:\",jumin_number[:2])\n",
        "print(\"월:\",jumin_number[2:4])\n",
        "print(\"일:\",jumin_number[4:6])\n",
        "print(\"생년월일:\",jumin_number[:6])\n",
        "print(\"뒤 8자리:\",jumin_number[7:])\n",
        "print(jumin_number[-1])\n",
        "print(jumin_number[-2])\n",
        "\n",
        "\n"
      ],
      "execution_count": null,
      "outputs": [
        {
          "output_type": "stream",
          "text": [
            "성별: 3\n",
            "연: 06\n",
            "월: 01\n",
            "일: 07\n",
            "생년월일: 060107\n",
            "뒤 8자리: 3456789\n",
            "9\n",
            "8\n"
          ],
          "name": "stdout"
        }
      ]
    },
    {
      "cell_type": "code",
      "metadata": {
        "colab": {
          "base_uri": "https://localhost:8080/"
        },
        "id": "LUxf-wrl9rZn",
        "outputId": "3b1b2702-c927-41ac-e158-e707220ecf3b"
      },
      "source": [
        "baurl = \"https://naver.com\"\n",
        "url = baurl[8:]\n",
        "url = url.split(\".\")[0]\n",
        "url = url[:3]+str(len(url))+str(url.count(\"e\"))+\"!\"\n",
        "print(\"{}의 비밀번호는 {}입니다.\".format(baurl,url))"
      ],
      "execution_count": null,
      "outputs": [
        {
          "output_type": "stream",
          "text": [
            "https://naver.com의 비밀번호는 nav51!입니다.\n"
          ],
          "name": "stdout"
        }
      ]
    },
    {
      "cell_type": "code",
      "metadata": {
        "colab": {
          "base_uri": "https://localhost:8080/"
        },
        "id": "KIZe-1_J-3SZ",
        "outputId": "21f95ff9-e611-4f5b-ab8c-9abd9ccef709"
      },
      "source": [
        "li = [1,3,5,4,2]\n",
        "li.sort(reverse=True)\n",
        "print(li)"
      ],
      "execution_count": null,
      "outputs": [
        {
          "output_type": "stream",
          "text": [
            "[5, 4, 3, 2, 1]\n"
          ],
          "name": "stdout"
        }
      ]
    },
    {
      "cell_type": "code",
      "metadata": {
        "colab": {
          "base_uri": "https://localhost:8080/"
        },
        "id": "l4n_9e81_xAx",
        "outputId": "1a07e0b1-a19d-452d-90cb-65a1834a500f"
      },
      "source": [
        "li = [i if i % 2 == 0 else i+1 for i in range(1,20,2)]\n",
        "print(li)"
      ],
      "execution_count": null,
      "outputs": [
        {
          "output_type": "stream",
          "text": [
            "[2, 4, 6, 8, 10, 12, 14, 16, 18, 20]\n"
          ],
          "name": "stdout"
        }
      ]
    },
    {
      "cell_type": "code",
      "metadata": {
        "colab": {
          "base_uri": "https://localhost:8080/"
        },
        "id": "22NrqDsjFQh8",
        "outputId": "f9deeb90-9c55-4499-9093-0a7e1c72d5ff"
      },
      "source": [
        "from random import *\n",
        "li = [i for i in range(1,21)]\n",
        "print(li)\n",
        "shuffle(li)\n",
        "print(li)\n",
        "sam=sample(li,4)\n",
        "print(\"당첨자발표 -- 치킨 당첨자: {} 커피 당첨자: {}\".format(sam[0],sam[1:]))\n",
        "print(\"축하합니다 --\")"
      ],
      "execution_count": null,
      "outputs": [
        {
          "output_type": "stream",
          "text": [
            "[1, 2, 3, 4, 5, 6, 7, 8, 9, 10, 11, 12, 13, 14, 15, 16, 17, 18, 19, 20]\n",
            "[10, 18, 20, 1, 11, 3, 13, 4, 8, 9, 19, 12, 14, 17, 15, 7, 5, 2, 6, 16]\n",
            "당첨자발표 -- 치킨 당첨자: 3 커피 당첨자: [18, 15, 2]\n",
            "축하합니다 --\n"
          ],
          "name": "stdout"
        }
      ]
    },
    {
      "cell_type": "code",
      "metadata": {
        "colab": {
          "base_uri": "https://localhost:8080/"
        },
        "id": "fB0BR0WhGWNH",
        "outputId": "e51393ea-9f3b-428c-8e17-226894f5eca6"
      },
      "source": [
        "money = 2000\n",
        "card = 1\n",
        "if money >= 3000 or card == True:\n",
        "  print(\"택시를 타고 갑니당~~\")\n",
        "else:\n",
        "  print(\"걸어갑니다..\")"
      ],
      "execution_count": null,
      "outputs": [
        {
          "output_type": "stream",
          "text": [
            "택시를 타고 갑니당~~\n"
          ],
          "name": "stdout"
        }
      ]
    },
    {
      "cell_type": "code",
      "metadata": {
        "colab": {
          "base_uri": "https://localhost:8080/"
        },
        "id": "E73gKLX1Gw-X",
        "outputId": "8bd2bcd5-1d5d-4daa-f30f-ce6fae968672"
      },
      "source": [
        "weather = input(\"오늘 날씨는 어때요?\")\n",
        "if weather == \"비\" or weather == \"눈\":\n",
        "  print(\"우산을 챙기고 갑니다~~\")\n",
        "elif weather == \"미세먼지\":\n",
        "  print(\"마스크를 챙기고 갑니다..\")\n",
        "else:\n",
        "  print(\"준비물이 필요하지않습니다~~\")"
      ],
      "execution_count": null,
      "outputs": [
        {
          "output_type": "stream",
          "text": [
            "오늘 날씨는 어때요?눈\n",
            "우산을 챙기고 갑니다~~\n"
          ],
          "name": "stdout"
        }
      ]
    },
    {
      "cell_type": "code",
      "metadata": {
        "colab": {
          "base_uri": "https://localhost:8080/"
        },
        "id": "iwwGJ-t_HPon",
        "outputId": "d6b0ca9b-87ff-4d91-8785-cb41fddb395b"
      },
      "source": [
        "summary = 0\n",
        "for i in range(1,101):\n",
        "  summary+=i\n",
        "print(summary)"
      ],
      "execution_count": 26,
      "outputs": [
        {
          "output_type": "stream",
          "text": [
            "5050\n"
          ],
          "name": "stdout"
        }
      ]
    },
    {
      "cell_type": "code",
      "metadata": {
        "colab": {
          "base_uri": "https://localhost:8080/"
        },
        "id": "ZJriTMdrHrrl",
        "outputId": "9f547858-eeac-499e-a6ea-efc7e547d80c"
      },
      "source": [
        "marks = [90,25,67,45,80]\n",
        "for i in range(len(marks)):\n",
        "  if marks[i] >= 80:\n",
        "    print(\"{}번 학생은 합격입니다.\".format(i+1), end=\"\")\n",
        "  else:\n",
        "    print(\"{}번 학생은 불합격입니다.\".format(i+1),end=\"\")"
      ],
      "execution_count": null,
      "outputs": [
        {
          "output_type": "stream",
          "text": [
            "1번 학생은 합격입니다.2번 학생은 불합격입니다.3번 학생은 불합격입니다.4번 학생은 불합격입니다.5번 학생은 합격입니다."
          ],
          "name": "stdout"
        }
      ]
    },
    {
      "cell_type": "code",
      "metadata": {
        "colab": {
          "base_uri": "https://localhost:8080/"
        },
        "id": "d9hrkiE7OLnK",
        "outputId": "f358b5f5-f07c-4587-876a-323af47853bf"
      },
      "source": [
        "cnt=0\n",
        "while cnt<3:\n",
        "  cnt+=1\n",
        "  a = int(input(\"더하고자 하는 첫번째 값을 입력하세요: \"))\n",
        "  b = int(input(\"더하고자 하는 두번째 값을 입력하세요: \"))\n",
        "  if a == 0 and b==0:\n",
        "    print(\"계산을 종료합니다\")\n",
        "    break\n",
        "  print(\"{} + {} = {}\".format(a,b,a+b))\n"
      ],
      "execution_count": null,
      "outputs": [
        {
          "output_type": "stream",
          "text": [
            "더하고자 하는 첫번째 값을 입력하세요: 5\n",
            "더하고자 하는 두번째 값을 입력하세요: 13\n",
            "5 + 13 = 18\n",
            "더하고자 하는 첫번째 값을 입력하세요: 0\n",
            "더하고자 하는 두번째 값을 입력하세요: 0\n",
            "계산을 종료합니다\n"
          ],
          "name": "stdout"
        }
      ]
    },
    {
      "cell_type": "code",
      "metadata": {
        "colab": {
          "base_uri": "https://localhost:8080/"
        },
        "id": "zZgFEshlQWCB",
        "outputId": "7dc394c2-801a-41a2-bf2b-d17b8941849a"
      },
      "source": [
        "i=0\n",
        "summary=0\n",
        "while True:\n",
        "  i+=1\n",
        "  summary+=i\n",
        "  if i == 100:\n",
        "    break\n",
        "print(\"1부터 100까지의 합은 {}입니다\".format(summary))"
      ],
      "execution_count": 24,
      "outputs": [
        {
          "output_type": "stream",
          "text": [
            "1부터 100까지의 합은 5050입니다\n"
          ],
          "name": "stdout"
        }
      ]
    },
    {
      "cell_type": "code",
      "metadata": {
        "id": "GxrVQuhBU6rX",
        "colab": {
          "base_uri": "https://localhost:8080/"
        },
        "outputId": "3c383bbc-351a-465e-9d5a-3d279c16c78a"
      },
      "source": [
        "coffee = 4\n",
        "coffee_price = 300\n",
        "while True:\n",
        "  money = int(input(\"돈을 넣어주세요:\"))\n",
        "  if money > coffee_price:\n",
        "    print(\"거스름돈 {}원을 주고 커피를 줍니다\".format(money-coffee_price))\n",
        "    coffee-=1\n",
        "  elif money == 300:\n",
        "    print(\"거스름돈 없이 커피만 줍니다\")\n",
        "    coffee-=1\n",
        "  else:\n",
        "    print(\"돈을 다시 돌려주고 커피를 주지않습니다\")\n",
        "  print(\"남은 커피의 양은 {}개입니다\".format(coffee))\n",
        "  if coffee ==0:\n",
        "    print(\"커피가 다 떨어졌습니다. 판매를 중지합니다.\")\n",
        "    break\n"
      ],
      "execution_count": 3,
      "outputs": [
        {
          "output_type": "stream",
          "text": [
            "돈을 넣어주세요:300\n",
            "거스름돈 없이 커피만 줍니다\n",
            "남은 커피의 양은 3개입니다\n",
            "돈을 넣어주세요:500\n",
            "거스름돈 200원을 주고 커피를 줍니다\n",
            "남은 커피의 양은 2개입니다\n",
            "돈을 넣어주세요:200\n",
            "돈을 다시 돌려주고 커피를 주지않습니다\n",
            "남은 커피의 양은 2개입니다\n",
            "돈을 넣어주세요:200\n",
            "돈을 다시 돌려주고 커피를 주지않습니다\n",
            "남은 커피의 양은 2개입니다\n",
            "돈을 넣어주세요:500\n",
            "거스름돈 200원을 주고 커피를 줍니다\n",
            "남은 커피의 양은 1개입니다\n",
            "돈을 넣어주세요:400\n",
            "거스름돈 100원을 주고 커피를 줍니다\n",
            "남은 커피의 양은 0개입니다\n"
          ],
          "name": "stdout"
        }
      ]
    },
    {
      "cell_type": "code",
      "metadata": {
        "colab": {
          "base_uri": "https://localhost:8080/"
        },
        "id": "a0a1iR7FQ513",
        "outputId": "c8e770ea-8792-414f-a162-7b8e1f1a8a7b"
      },
      "source": [
        "li = [i for i in range(0,20) if i % 2 == 0]\n",
        "print(li)"
      ],
      "execution_count": null,
      "outputs": [
        {
          "output_type": "stream",
          "text": [
            "[0, 2, 4, 6, 8, 10, 12, 14, 16, 18]\n"
          ],
          "name": "stdout"
        }
      ]
    },
    {
      "cell_type": "code",
      "metadata": {
        "colab": {
          "base_uri": "https://localhost:8080/"
        },
        "id": "XOsx5S8txbwG",
        "outputId": "c0c35f7e-cca8-40b5-b0ef-8893861c8f79"
      },
      "source": [
        "a = [1,2,3,4,5,6,7,8,9]\n",
        "li = [i*2 for i in a if i%2==0]\n",
        "print(li)"
      ],
      "execution_count": 5,
      "outputs": [
        {
          "output_type": "stream",
          "text": [
            "[4, 8, 12, 16]\n"
          ],
          "name": "stdout"
        }
      ]
    },
    {
      "cell_type": "code",
      "metadata": {
        "colab": {
          "base_uri": "https://localhost:8080/"
        },
        "id": "_cyKJgWTyabG",
        "outputId": "6d23f030-b956-4ff2-9d06-f2e0d74158ab"
      },
      "source": [
        "a = [1,2,3,4,5,6,7,8,9]\n",
        "li = [i*2 if i%2==0 else -1 for i in a]\n",
        "print(li)"
      ],
      "execution_count": 13,
      "outputs": [
        {
          "output_type": "stream",
          "text": [
            "[-1, 4, -1, 8, -1, 12, -1, 16, -1]\n"
          ],
          "name": "stdout"
        }
      ]
    },
    {
      "cell_type": "code",
      "metadata": {
        "colab": {
          "base_uri": "https://localhost:8080/"
        },
        "id": "pKRM7WH_2Gob",
        "outputId": "d72fbaf8-1150-4ed4-d649-d8283bd614ca"
      },
      "source": [
        "def print_arithmetic_operation(a,b):\n",
        "  print(\"{} + {} = {}\".format(a,b,a+b))\n",
        "  print(\"{} - {} = {}\".format(a,b,a-b))\n",
        "  print(\"{} / {} = {}\".format(a,b,a/b))\n",
        "  print(\"{} * {} = {}\".format(a,b,a*b))\n",
        "\n",
        "a,b = map(int, input().split())\n",
        "print_arithmetic_operation(a,b)"
      ],
      "execution_count": 16,
      "outputs": [
        {
          "output_type": "stream",
          "text": [
            "30 20\n",
            "30 + 20 = 50\n",
            "30 - 20 = 10\n",
            "30 / 20 = 1.5\n",
            "30 * 20 = 600\n"
          ],
          "name": "stdout"
        }
      ]
    },
    {
      "cell_type": "code",
      "metadata": {
        "colab": {
          "base_uri": "https://localhost:8080/"
        },
        "id": "Q3IoQ96-R7z_",
        "outputId": "ce28c31f-c50f-400d-b538-a94d17ab3b73"
      },
      "source": [
        "c = \"python\"\n",
        "def print_reverse(num):\n",
        "  print(num[::-1])\n",
        "print_reverse(c)"
      ],
      "execution_count": null,
      "outputs": [
        {
          "output_type": "stream",
          "text": [
            "nohtyp\n"
          ],
          "name": "stdout"
        }
      ]
    },
    {
      "cell_type": "code",
      "metadata": {
        "colab": {
          "base_uri": "https://localhost:8080/"
        },
        "id": "TNKNEdEU2wKE",
        "outputId": "8c1004e0-a73a-47ba-f55c-116e7c7ad1cc"
      },
      "source": [
        "li = [99,23,80,79,65,31,0,24,54,35,100,72]\n",
        "def print_score(li):\n",
        "  avg = sum(li)/len(li)\n",
        "  return avg\n",
        "print(print_score(li))"
      ],
      "execution_count": 4,
      "outputs": [
        {
          "output_type": "stream",
          "text": [
            "55.166666666666664\n"
          ],
          "name": "stdout"
        }
      ]
    },
    {
      "cell_type": "code",
      "metadata": {
        "colab": {
          "base_uri": "https://localhost:8080/"
        },
        "id": "fZALRVc77koE",
        "outputId": "ace2915d-5236-488e-ea38-4d076550ef62"
      },
      "source": [
        "dic = {\"이름\":\"김말똥\",\"나이\":30,\"성별\":0}\n",
        "def print_keys(dic):\n",
        "  for i in dic.keys():\n",
        "    print(i)\n",
        "print_keys(dic)"
      ],
      "execution_count": 9,
      "outputs": [
        {
          "output_type": "stream",
          "text": [
            "이름\n",
            "나이\n",
            "성별\n"
          ],
          "name": "stdout"
        }
      ]
    },
    {
      "cell_type": "code",
      "metadata": {
        "colab": {
          "base_uri": "https://localhost:8080/"
        },
        "id": "eQVK0A059qXr",
        "outputId": "f806ef74-9b61-4cd1-cf85-0f1e5d709c40"
      },
      "source": [
        "def make_list(st):\n",
        "  st = list(st)\n",
        "  return st\n",
        "new_st = input()\n",
        "print(make_list(new_st))"
      ],
      "execution_count": 11,
      "outputs": [
        {
          "output_type": "stream",
          "text": [
            "python\n",
            "['p', 'y', 't', 'h', 'o', 'n']\n"
          ],
          "name": "stdout"
        }
      ]
    },
    {
      "cell_type": "code",
      "metadata": {
        "colab": {
          "base_uri": "https://localhost:8080/"
        },
        "id": "JxbFoeZE-Xnb",
        "outputId": "807c91c4-d9a2-41ec-b468-8c173253774b"
      },
      "source": [
        "a = [3,100,66,44]\n",
        "li = [i for i in a if i%3==0]\n",
        "print(li)"
      ],
      "execution_count": 13,
      "outputs": [
        {
          "output_type": "stream",
          "text": [
            "[3, 66]\n"
          ],
          "name": "stdout"
        }
      ]
    }
  ]
}