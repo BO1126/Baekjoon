{
  "nbformat": 4,
  "nbformat_minor": 0,
  "metadata": {
    "colab": {
      "name": "Baek2869.ipynb",
      "provenance": []
    },
    "kernelspec": {
      "name": "python3",
      "display_name": "Python 3"
    },
    "language_info": {
      "name": "python"
    }
  },
  "cells": [
    {
      "cell_type": "code",
      "metadata": {
        "colab": {
          "base_uri": "https://localhost:8080/"
        },
        "id": "e9kk6Sl31USs",
        "outputId": "a36b153c-640b-433c-d1e2-8e7d647bd351"
      },
      "source": [
        "import math\n",
        "a, b, v = map(int, input().split())\n",
        "day = (v-b) / (a-b)\n",
        "\n",
        "print(math.ceil(day))\n",
        "\n"
      ],
      "execution_count": 14,
      "outputs": [
        {
          "output_type": "stream",
          "text": [
            "2 1 5\n",
            "4\n"
          ],
          "name": "stdout"
        }
      ]
    }
  ]
}